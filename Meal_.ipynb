{
  "nbformat": 4,
  "nbformat_minor": 0,
  "metadata": {
    "colab": {
      "name": "Meal-.ipynb",
      "provenance": [],
      "authorship_tag": "ABX9TyOh2LqWu+Pl1GXuPyvJaMA+",
      "include_colab_link": true
    },
    "kernelspec": {
      "name": "python3",
      "display_name": "Python 3"
    },
    "language_info": {
      "name": "python"
    }
  },
  "cells": [
    {
      "cell_type": "markdown",
      "metadata": {
        "id": "view-in-github",
        "colab_type": "text"
      },
      "source": [
        "<a href=\"https://colab.research.google.com/github/Merm-A-de/Beginner-ML-AI/blob/main/Meal_.ipynb\" target=\"_parent\"><img src=\"https://colab.research.google.com/assets/colab-badge.svg\" alt=\"Open In Colab\"/></a>"
      ]
    },
    {
      "cell_type": "markdown",
      "source": [
        "# Pseudo Random Meal Program\n",
        "\n"
      ],
      "metadata": {
        "id": "2L7Tsm_cTaI9"
      }
    },
    {
      "cell_type": "markdown",
      "source": [
        "##New Line Function for the program"
      ],
      "metadata": {
        "id": "UmfSxhJ2TSaF"
      }
    },
    {
      "cell_type": "code",
      "source": [
        "def nool(x):\n",
        "  return(\"\\n\"*x)\n",
        "\n",
        "#print ('the',nool(3), \"t\", nool(1)) \n",
        "\n",
        "# how to remove space at beg of new line\n",
        "# when using '\\n'????"
      ],
      "metadata": {
        "id": "Fqm1jtkkLn7A"
      },
      "execution_count": 21,
      "outputs": []
    },
    {
      "cell_type": "markdown",
      "source": [
        "##Import Packages"
      ],
      "metadata": {
        "id": "5X2k0l8_eAG2"
      }
    },
    {
      "cell_type": "code",
      "source": [
        "import random\n",
        "from random import choices\n",
        "from random import choice\n",
        "\n",
        "#bold = '\\033[1m'\n"
      ],
      "metadata": {
        "id": "k19P7jKwd_dF"
      },
      "execution_count": 54,
      "outputs": []
    },
    {
      "cell_type": "code",
      "execution_count": 98,
      "metadata": {
        "colab": {
          "base_uri": "https://localhost:8080/"
        },
        "id": "U-Ou_j1FGN4V",
        "outputId": "364779a1-afd4-46c4-a846-7279a7ca408c"
      },
      "outputs": [
        {
          "name": "stdout",
          "output_type": "stream",
          "text": [
            "\n",
            "Welcome to AM's \n",
            "\n",
            "Style? (Italian, Greek, American) Greek\n",
            "Courses? (1-4) 4\n",
            "'Healthy' or 'Vacation'? Vacation\n"
          ]
        },
        {
          "output_type": "execute_result",
          "data": {
            "text/plain": [
              "[['Bogatsa'], ['Saganaki'], ['Macaronia & Kima'], ['Trahana Soup']]"
            ]
          },
          "metadata": {},
          "execution_count": 98
        }
      ],
      "source": [
        "greeting = \"\"\"\n",
        "Welcome to AM's \n",
        "\"\"\"\n",
        "\n",
        "print(greeting)\n",
        "\n",
        "#how to out put greeting, take a sec,\n",
        "# then get the input variable\n",
        "\n",
        "sty_inp = input(\n",
        "    \"Style? (Italian, Greek, American) \")\n",
        "course_inp = int(input(\n",
        "    \"Courses? (1-4) \"))\n",
        "ty_inp = input(\n",
        "    \"'Healthy' or 'Vacation'? \")\n",
        "\n",
        "itl_hlth_1 = (\"Minestrone\", \n",
        "              \"Zuppa di verze e patate\")\n",
        "    \n",
        "\n",
        "itl_vac_1 = (\"Italian Wedding Soup\",\n",
        "             \"Fagioli e cotiche\")\n",
        "\n",
        "\n",
        "itl_hlth_2 = (\"Sicilian Salad\", \n",
        "              \"Napolitan Salad\")\n",
        "    \n",
        "\n",
        "itl_vac_2 = (\"Parmesan Bread\",\n",
        "             \"Vodka Macaroni Bites\")\n",
        "\n",
        "\n",
        "itl_hlth_3 = (\"Napolitan Chicken\", \n",
        "              \"Sicilian Branzino\")\n",
        "    \n",
        "itl_vac_3 = (\"Rigatone Alfredo\",\n",
        "             \"Napolitan Pancetta Pizza\")\n",
        "\n",
        "\n",
        "itl_hlth_4 = (\"Grapes and Watermelon\", \n",
        "              \"Rasberry Sorbet\")\n",
        "    \n",
        "itl_vac_4 = (\"Triple Chocolate Gelato\",\n",
        "             \"Triple Chocolate Cake\")\n",
        "\n",
        "\n",
        "grk_hlth_1 = (\"Fasolatha\", \n",
        "              \"Fakis\")\n",
        "    \n",
        "grk_vac_1 = (\"Avgolemono\",\n",
        "             \"Trahana Soup\")\n",
        "\n",
        "grk_hlth_2 = (\"Athenian Salad\", \n",
        "              \"Calamatan Salad\")\n",
        "    \n",
        "grk_vac_2 = (\"Calamari\",\n",
        "             \"Saganaki\")\n",
        "\n",
        "\n",
        "grk_hlth_3 = (\"Greek Style Chicken\", \n",
        "              \"Octopus with Rice\")\n",
        "    \n",
        "grk_vac_3 = (\"Macaronia & Kima\",\n",
        "             \"Macaronia & Psari\")\n",
        "\n",
        "\n",
        "grk_hlth_4 = (\"Grapes & Watermelon\", \n",
        "              \"Triple Espresso\")\n",
        "    \n",
        "grk_vac_4 = (\"Galopita\",\n",
        "             \"Bogatsa\")\n",
        "\n",
        "amr_hlth_1 = (\"Chicken Noodle Soup\", \n",
        "              \"Lentil Soup\")\n",
        "    \n",
        "amr_vac_1 = (\"New England Clam Chowder\",\n",
        "             \"Lobster Bisque\")\n",
        "\n",
        "\n",
        "amr_hlth_2 = (\"Classic Salad\", \n",
        "              \"Sliced Avocado with Egg\")\n",
        "    \n",
        "amr_vac_2 = (\"Cheese Curds\",\n",
        "             \"Mozzerella Sticks\")\n",
        "\n",
        "\n",
        "amr_hlth_3 = (\"Chjcken Breast\", \n",
        "              \"Ribeye Steak\")\n",
        "    \n",
        "amr_vac_3 = (\"Philly Cheese Steak\",\n",
        "             \"Crab Pasta\")\n",
        "\n",
        "\n",
        "amr_hlth_4 = (\"Fruit Cup\", \n",
        "              \"Coffee\")\n",
        "    \n",
        "amr_vac_4 = (\"Cheesecake\",\n",
        "             \"Flan\")\n",
        "\n",
        "#can create var for random.choice\n",
        "#when calling random from groups\n",
        "\n",
        "def meals():\n",
        "  if sty_inp == (\n",
        "      \"Italian\" or \"italian\"):\n",
        "    if ty_inp == (\n",
        "        \"Healthy\" or \"healthy\"):\n",
        "      meal = random.sample(\n",
        "          (random.choices(itl_hlth_1,\n",
        "                          k = 1),\n",
        "          random.choices(itl_hlth_2,\n",
        "                          k = 1),\n",
        "          random.choices(itl_hlth_3,\n",
        "                          k = 1),\n",
        "          random.choices(itl_hlth_4,\n",
        "                          k = 1)),\n",
        "          k= course_inp)\n",
        "      return meal\n",
        "\n",
        "    elif ty_inp == (\n",
        "      \"Vacation\" or \"vacation\"):\n",
        "      meal = random.sample(\n",
        "          (random.choices(itl_vac_1,\n",
        "                          k = 1),\n",
        "          random.choices(itl_vac_2,\n",
        "                          k = 1),\n",
        "          random.choices(itl_vac_3,\n",
        "                          k = 1),\n",
        "          random.choices(itl_vac_4,\n",
        "                          k = 1)),\n",
        "          k= course_inp)\n",
        "    return meal\n",
        "\n",
        "  elif sty_inp == (\n",
        "      \"Greek\" or \"greek\"):\n",
        "    if ty_inp == (\n",
        "        \"Healthy\" or \"healthy\"):\n",
        "      meal = random.sample(\n",
        "          (random.choices(grk_hlth_1,\n",
        "                          k = 1),\n",
        "          random.choices(grk_hlth_2,\n",
        "                          k = 1),\n",
        "          random.choices(grk_hlth_3,\n",
        "                          k = 1),\n",
        "          random.choices(grk_hlth_4,\n",
        "                          k = 1)),\n",
        "          k= course_inp)\n",
        "      return meal\n",
        "\n",
        "    elif ty_inp == (\n",
        "        \"Vacation\" or \"vacation\"):\n",
        "      meal = random.sample(\n",
        "          (random.choices(grk_vac_1,\n",
        "                          k = 1),\n",
        "          random.choices(grk_vac_2,\n",
        "                          k = 1),\n",
        "          random.choices(grk_vac_3,\n",
        "                          k = 1),\n",
        "          random.choices(grk_vac_4,\n",
        "                          k = 1)),\n",
        "          k= course_inp)\n",
        "      return meal\n",
        "\n",
        "  elif sty_inp == (\n",
        "      \"American\" or \"american\"):\n",
        "    if ty_inp == (\n",
        "        \"Healthy\" or \"healthy\"):\n",
        "      meal = random.sample(\n",
        "          (random.choices(amr_hlth_1,\n",
        "                          k = 1),\n",
        "          random.choices(amr_hlth_2,\n",
        "                          k = 1),\n",
        "          random.choices(amr_hlth_3,\n",
        "                          k = 1),\n",
        "          random.choices(amr_hlth_4,\n",
        "                          k = 1)),\n",
        "          k= course_inp)\n",
        "      return meal\n",
        "\n",
        "    elif ty_inp == (\n",
        "        \"Vacation\" or \"vacation\"):\n",
        "      meal = random.sample(\n",
        "          (random.choices(amr_vac_1,\n",
        "                          k = 1),\n",
        "          random.choices(amr_vac_2,\n",
        "                          k = 1),\n",
        "          random.choices(amr_vac_3,\n",
        "                          k = 1),\n",
        "          random.choices(amr_vac_4,\n",
        "                          k = 1)),\n",
        "          k= course_inp)\n",
        "      return meal\n",
        "\n",
        "  #return meal - not working when \n",
        "  # output meal after meal is chosen\n",
        "\n",
        "  print(meal)\n",
        "\n",
        "meals()\n",
        "\n",
        "#MVP Reformat\n",
        "#This is choosing random courses\n",
        "#Super buggy with Caps (Vac vs vac)"
      ]
    },
    {
      "cell_type": "code",
      "source": [
        ""
      ],
      "metadata": {
        "id": "gfGqd31J3AFv"
      },
      "execution_count": null,
      "outputs": []
    },
    {
      "cell_type": "code",
      "source": [
        "# how to make sure no duplicates in \n",
        "#random.choices\n"
      ],
      "metadata": {
        "id": "CWTmtWgwuyic"
      },
      "execution_count": null,
      "outputs": []
    },
    {
      "cell_type": "code",
      "source": [
        ""
      ],
      "metadata": {
        "id": "o1A5zRd4tokC"
      },
      "execution_count": null,
      "outputs": []
    },
    {
      "cell_type": "code",
      "source": [
        ""
      ],
      "metadata": {
        "id": "wUnxma6SsEQh"
      },
      "execution_count": null,
      "outputs": []
    },
    {
      "cell_type": "code",
      "source": [
        ""
      ],
      "metadata": {
        "id": "Pvk-TbDAraaC"
      },
      "execution_count": null,
      "outputs": []
    },
    {
      "cell_type": "code",
      "source": [
        ""
      ],
      "metadata": {
        "id": "16lQw2l7Lmdp"
      },
      "execution_count": null,
      "outputs": []
    },
    {
      "cell_type": "code",
      "source": [
        ""
      ],
      "metadata": {
        "id": "HS_ICwMUKI7D"
      },
      "execution_count": null,
      "outputs": []
    }
  ]
}